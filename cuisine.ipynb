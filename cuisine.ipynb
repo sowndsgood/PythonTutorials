{
 "cells": [
  {
   "cell_type": "markdown",
   "metadata": {},
   "source": [
    "Cuisine "
   ]
  },
  {
   "cell_type": "code",
   "execution_count": 1,
   "metadata": {},
   "outputs": [],
   "source": [
    "indian = [\"idli\",\"dosa\",\"vada\",\"naan\"]\n",
    "chinese = [\"noodles\",\"egg roll\",\"fried rice\"]\n",
    "italian = [\"pasta\",\"pizza\"]"
   ]
  },
  {
   "cell_type": "code",
   "execution_count": 6,
   "metadata": {},
   "outputs": [],
   "source": [
    "dish = input(\"Enter dish:\")"
   ]
  },
  {
   "cell_type": "code",
   "execution_count": 7,
   "metadata": {},
   "outputs": [
    {
     "name": "stdout",
     "output_type": "stream",
     "text": [
      "I don't know\n"
     ]
    }
   ],
   "source": [
    "if dish in indian:\n",
    "    print(\"Indian dish\")\n",
    "elif dish in chinese:\n",
    "    print(\"Chinese dish\")\n",
    "elif dish in italian:\n",
    "    print(\"Italian dish\")\n",
    "else:\n",
    "    print(\"I don't know\")"
   ]
  }
 ],
 "metadata": {
  "kernelspec": {
   "display_name": "Python 3",
   "language": "python",
   "name": "python3"
  },
  "language_info": {
   "codemirror_mode": {
    "name": "ipython",
    "version": 3
   },
   "file_extension": ".py",
   "mimetype": "text/x-python",
   "name": "python",
   "nbconvert_exporter": "python",
   "pygments_lexer": "ipython3",
   "version": "3.11.3"
  }
 },
 "nbformat": 4,
 "nbformat_minor": 2
}
