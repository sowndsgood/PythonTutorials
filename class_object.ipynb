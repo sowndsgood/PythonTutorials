{
 "cells": [
  {
   "cell_type": "markdown",
   "metadata": {},
   "source": [
    "Class is a entity with properties and methods.\n",
    "Ex: Human is a class with properties like gender, name and methods like sleep, eat.\n",
    "Object is specific instance of class.\n",
    "Ex: Tom Cruise, Maria"
   ]
  },
  {
   "cell_type": "code",
   "execution_count": 6,
   "metadata": {},
   "outputs": [
    {
     "name": "stdout",
     "output_type": "stream",
     "text": [
      "Tom plays tennis\n",
      "Tom says fine\n",
      "Maria shoots film\n",
      "Maria says fine\n"
     ]
    }
   ],
   "source": [
    "class Human:\n",
    "    def __init__(self,n,o):  #self means the class itself. It is a syntax\n",
    "        self.name = n\n",
    "        self.occupation = o    #self.name here name is property\n",
    "\n",
    "    def do_work(self):\n",
    "        if self.occupation == \"Tennis\":\n",
    "            print(self.name,\"plays tennis\")\n",
    "        elif self.occupation == \"Actor\":\n",
    "            print(self.name,\"shoots film\")\n",
    "\n",
    "    def speaks(self):      #You can have as many methods\n",
    "        print(self.name,\"says fine\")\n",
    "\n",
    "tom = Human(\"Tom\",\"Tennis\")\n",
    "tom.do_work()\n",
    "tom.speaks()\n",
    "\n",
    "maria = Human(\"Maria\",\"Actor\")\n",
    "maria.do_work()\n",
    "maria.speaks()"
   ]
  }
 ],
 "metadata": {
  "kernelspec": {
   "display_name": "Python 3",
   "language": "python",
   "name": "python3"
  },
  "language_info": {
   "codemirror_mode": {
    "name": "ipython",
    "version": 3
   },
   "file_extension": ".py",
   "mimetype": "text/x-python",
   "name": "python",
   "nbconvert_exporter": "python",
   "pygments_lexer": "ipython3",
   "version": "3.11.3"
  }
 },
 "nbformat": 4,
 "nbformat_minor": 2
}
