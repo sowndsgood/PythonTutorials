{
 "cells": [
  {
   "cell_type": "markdown",
   "metadata": {},
   "source": [
    "    Modes:\n",
    "    r\n",
    "    w\n",
    "    r+ both read and write\n",
    "    w+ both read and write. will create one if doesn't exist\n",
    "    a"
   ]
  },
  {
   "cell_type": "code",
   "execution_count": 1,
   "metadata": {},
   "outputs": [],
   "source": [
    "f=open(\"D:\\\\PyProblems\\\\CodeBasics\\\\example.txt\",\"w\")    #Write\n",
    "f.write(\"Hi This is a demo\")\n",
    "f.close()"
   ]
  },
  {
   "cell_type": "code",
   "execution_count": 3,
   "metadata": {},
   "outputs": [],
   "source": [
    "f=open(\"D:\\\\PyProblems\\\\CodeBasics\\\\example.txt\",\"a\")    #Append\n",
    "f.write(\"\\nWelcome\")\n",
    "f.close()"
   ]
  },
  {
   "cell_type": "code",
   "execution_count": 4,
   "metadata": {},
   "outputs": [
    {
     "name": "stdout",
     "output_type": "stream",
     "text": [
      "Teacher: Why are you late, raghu?\n",
      "Raghu: Because of the sign\n",
      "Teacher: What sign?\n",
      "Raghu: The one that says \"School Ahead, Go slow\"\n"
     ]
    }
   ],
   "source": [
    "f=open(\"D:\\\\PyProblems\\\\CodeBasics\\\\example.txt\",\"r\")    #Read\n",
    "print(f.read())\n",
    "f.close()"
   ]
  },
  {
   "cell_type": "code",
   "execution_count": 5,
   "metadata": {},
   "outputs": [
    {
     "name": "stdout",
     "output_type": "stream",
     "text": [
      "Teacher: Why are you late, raghu?\n",
      "\n",
      "Raghu: Because of the sign\n",
      "\n",
      "Teacher: What sign?\n",
      "\n",
      "Raghu: The one that says \"School Ahead, Go slow\"\n"
     ]
    }
   ],
   "source": [
    "f=open(\"D:\\\\PyProblems\\\\CodeBasics\\\\example.txt\",\"r\") \n",
    "for line in f:\n",
    "    print(line)\n",
    "f.close()"
   ]
  },
  {
   "cell_type": "code",
   "execution_count": 7,
   "metadata": {},
   "outputs": [
    {
     "name": "stdout",
     "output_type": "stream",
     "text": [
      "['Teacher:', 'Why', 'are', 'you', 'late,', 'raghu?\\n']\n",
      "6\n",
      "['Raghu:', 'Because', 'of', 'the', 'sign\\n']\n",
      "5\n",
      "['Teacher:', 'What', 'sign?\\n']\n",
      "3\n",
      "['Raghu:', 'The', 'one', 'that', 'says', '\"School', 'Ahead,', 'Go', 'slow\"']\n",
      "9\n"
     ]
    }
   ],
   "source": [
    "f=open(\"D:\\\\PyProblems\\\\CodeBasics\\\\example.txt\",\"r\")   #Split function\n",
    "for line in f:\n",
    "    tokens=line.split(' ')\n",
    "    print(str(tokens))\n",
    "    print(len(tokens))\n",
    "f.close()"
   ]
  },
  {
   "cell_type": "code",
   "execution_count": 12,
   "metadata": {},
   "outputs": [],
   "source": [
    "f=open(\"D:\\\\PyProblems\\\\CodeBasics\\\\example.txt\",\"r\") \n",
    "f_out=open(\"D:\\\\PyProblems\\\\CodeBasics\\\\exampledemo.txt\",\"w\")\n",
    "for line in f:\n",
    "    tokens=line.split(' ')\n",
    "    f_out.write(\" Wordcount: \"+str(len(tokens))+line)\n",
    "f.close()\n",
    "f_out.close()"
   ]
  },
  {
   "cell_type": "code",
   "execution_count": 18,
   "metadata": {},
   "outputs": [
    {
     "name": "stdout",
     "output_type": "stream",
     "text": [
      "Teacher: Why are you late, raghu?\n",
      "Raghu: Because of the sign\n",
      "Teacher: What sign?\n",
      "Raghu: The one that says \"School Ahead, Go slow\"\n"
     ]
    },
    {
     "data": {
      "text/plain": [
       "True"
      ]
     },
     "execution_count": 18,
     "metadata": {},
     "output_type": "execute_result"
    }
   ],
   "source": [
    "with open(\"D:\\\\PyProblems\\\\CodeBasics\\\\example.txt\",\"r\") as f:   #with open closes the file automatically\n",
    "    print(f.read())\n",
    "\n",
    "#Tells whether file is closed or not\n",
    "f.closed"
   ]
  }
 ],
 "metadata": {
  "kernelspec": {
   "display_name": "Python 3",
   "language": "python",
   "name": "python3"
  },
  "language_info": {
   "codemirror_mode": {
    "name": "ipython",
    "version": 3
   },
   "file_extension": ".py",
   "mimetype": "text/x-python",
   "name": "python",
   "nbconvert_exporter": "python",
   "pygments_lexer": "ipython3",
   "version": "3.11.3"
  }
 },
 "nbformat": 4,
 "nbformat_minor": 2
}
