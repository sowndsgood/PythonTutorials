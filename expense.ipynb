{
 "cells": [
  {
   "cell_type": "code",
   "execution_count": 1,
   "metadata": {},
   "outputs": [],
   "source": [
    "exp = [2340, 2500, 2100, 3100, 2980]"
   ]
  },
  {
   "cell_type": "code",
   "execution_count": 7,
   "metadata": {},
   "outputs": [
    {
     "name": "stdout",
     "output_type": "stream",
     "text": [
      "Month: 1 Expenses: 2340\n",
      "Month: 2 Expenses: 2500\n",
      "Month: 3 Expenses: 2100\n",
      "Month: 4 Expenses: 3100\n",
      "Month: 5 Expenses: 2980\n",
      "Total: 13020\n"
     ]
    }
   ],
   "source": [
    "total=0\n",
    "for i in range(len(exp)):\n",
    "    print(\"Month:\",i+1,\"Expenses:\",exp[i])\n",
    "    total = total + exp[i]\n",
    "print(\"Total:\",total)"
   ]
  }
 ],
 "metadata": {
  "kernelspec": {
   "display_name": "Python 3",
   "language": "python",
   "name": "python3"
  },
  "language_info": {
   "codemirror_mode": {
    "name": "ipython",
    "version": 3
   },
   "file_extension": ".py",
   "mimetype": "text/x-python",
   "name": "python",
   "nbconvert_exporter": "python",
   "pygments_lexer": "ipython3",
   "version": "3.11.3"
  }
 },
 "nbformat": 4,
 "nbformat_minor": 2
}
