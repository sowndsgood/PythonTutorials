{
 "cells": [
  {
   "cell_type": "code",
   "execution_count": 3,
   "metadata": {},
   "outputs": [
    {
     "name": "stdout",
     "output_type": "stream",
     "text": [
      "No key in closet\n",
      "No key in table\n",
      "No key in garage\n",
      "Key Found\n"
     ]
    }
   ],
   "source": [
    "key_location=\"chair\"\n",
    "locations=[\"closet\",\"table\",\"garage\",\"chair\",\"stand\"]\n",
    "for i in locations:\n",
    "    if i==key_location:\n",
    "        print(\"Key Found\")\n",
    "        break\n",
    "    else:\n",
    "        print(\"No key in\",i)"
   ]
  }
 ],
 "metadata": {
  "kernelspec": {
   "display_name": "Python 3",
   "language": "python",
   "name": "python3"
  },
  "language_info": {
   "codemirror_mode": {
    "name": "ipython",
    "version": 3
   },
   "file_extension": ".py",
   "mimetype": "text/x-python",
   "name": "python",
   "nbconvert_exporter": "python",
   "pygments_lexer": "ipython3",
   "version": "3.11.3"
  }
 },
 "nbformat": 4,
 "nbformat_minor": 2
}
