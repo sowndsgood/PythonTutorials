{
 "cells": [
  {
   "cell_type": "code",
   "execution_count": 2,
   "metadata": {},
   "outputs": [
    {
     "name": "stdout",
     "output_type": "stream",
     "text": [
      "Tom's total expenses: 9000\n",
      "Joe's total expenses: 1400\n"
     ]
    }
   ],
   "source": [
    "tom_exp_list = [2100,3400,3500]\n",
    "joe_exp_list = [200,500,700]\n",
    "\n",
    "total=0\n",
    "for item in tom_exp_list:\n",
    "    total=total+item\n",
    "print(\"Tom's total expenses:\",total)\n",
    "\n",
    "total=0\n",
    "for item in joe_exp_list:\n",
    "    total=total+item\n",
    "print(\"Joe's total expenses:\",total)"
   ]
  },
  {
   "cell_type": "code",
   "execution_count": 3,
   "metadata": {},
   "outputs": [
    {
     "name": "stdout",
     "output_type": "stream",
     "text": [
      "Ttotal expenses: 9000\n",
      "Ttotal expenses: 1400\n"
     ]
    }
   ],
   "source": [
    "tom_exp_list = [2100,3400,3500]\n",
    "joe_exp_list = [200,500,700]\n",
    "\n",
    "#Function Body\n",
    "\n",
    "def calculate_total(exp):  #Function argument\n",
    "    total=0\n",
    "    for item in exp:\n",
    "        total=total+item\n",
    "    print(\"Total expenses:\",total)  #return-Function Return Value\n",
    "\n",
    "calculate_total(tom_exp_list)\n",
    "calculate_total(joe_exp_list)"
   ]
  },
  {
   "cell_type": "code",
   "execution_count": 7,
   "metadata": {},
   "outputs": [
    {
     "name": "stdout",
     "output_type": "stream",
     "text": [
      "11\n",
      "11\n"
     ]
    }
   ],
   "source": [
    "def sum(a,b):\n",
    "    return a+b\n",
    "print(sum(5,6))   #Positional Arguments\n",
    "print(sum(b=5,a=6))  #Named Arguments"
   ]
  },
  {
   "cell_type": "markdown",
   "metadata": {},
   "source": [
    "### Global and Local Variables\n",
    "Global - outside functions\n",
    "Local- inside functions"
   ]
  },
  {
   "cell_type": "code",
   "execution_count": 9,
   "metadata": {},
   "outputs": [
    {
     "name": "stdout",
     "output_type": "stream",
     "text": [
      "11\n",
      "5\n"
     ]
    }
   ],
   "source": [
    "def sum(a,b=0):  #b is zero if value is not passed. It is called as Default Arguments\n",
    "    return a+b\n",
    "print(sum(5,6)) \n",
    "print(sum(5)) "
   ]
  },
  {
   "cell_type": "code",
   "execution_count": 10,
   "metadata": {},
   "outputs": [],
   "source": [
    "#Documentation Strings\n",
    "def sum(a,b):  \n",
    "    '''Arithmetic Operation- Addition'''\n",
    "    return a+b"
   ]
  }
 ],
 "metadata": {
  "kernelspec": {
   "display_name": "Python 3",
   "language": "python",
   "name": "python3"
  },
  "language_info": {
   "codemirror_mode": {
    "name": "ipython",
    "version": 3
   },
   "file_extension": ".py",
   "mimetype": "text/x-python",
   "name": "python",
   "nbconvert_exporter": "python",
   "pygments_lexer": "ipython3",
   "version": "3.11.3"
  }
 },
 "nbformat": 4,
 "nbformat_minor": 2
}
